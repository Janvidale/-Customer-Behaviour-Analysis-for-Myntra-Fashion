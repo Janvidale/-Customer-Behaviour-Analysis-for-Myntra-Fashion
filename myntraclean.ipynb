{
 "cells": [
  {
   "cell_type": "code",
   "execution_count": 1,
   "id": "83d2dae8-63e3-44b3-9292-32191b2141ae",
   "metadata": {},
   "outputs": [],
   "source": [
    "import pandas as pd\n",
    "import warnings\n",
    "warnings.filterwarnings('ignore')"
   ]
  },
  {
   "cell_type": "code",
   "execution_count": 2,
   "id": "8b0800c2-cbb5-4ab4-be92-d3115a2dc99b",
   "metadata": {},
   "outputs": [],
   "source": [
    "data = pd.read_csv(r\"D:\\Dataset\\Myntra Fasion Clothing.csv\")"
   ]
  },
  {
   "cell_type": "code",
   "execution_count": 35,
   "id": "1ab10fd0-980d-4214-bb36-1807130761c1",
   "metadata": {
    "scrolled": true
   },
   "outputs": [
    {
     "data": {
      "text/html": [
       "<div>\n",
       "<style scoped>\n",
       "    .dataframe tbody tr th:only-of-type {\n",
       "        vertical-align: middle;\n",
       "    }\n",
       "\n",
       "    .dataframe tbody tr th {\n",
       "        vertical-align: top;\n",
       "    }\n",
       "\n",
       "    .dataframe thead th {\n",
       "        text-align: right;\n",
       "    }\n",
       "</style>\n",
       "<table border=\"1\" class=\"dataframe\">\n",
       "  <thead>\n",
       "    <tr style=\"text-align: right;\">\n",
       "      <th></th>\n",
       "      <th>URL</th>\n",
       "      <th>Product_id</th>\n",
       "      <th>BrandName</th>\n",
       "      <th>Category</th>\n",
       "      <th>Individual_category</th>\n",
       "      <th>category_by_Gender</th>\n",
       "      <th>Description</th>\n",
       "      <th>DiscountPrice (in Rs)</th>\n",
       "      <th>OriginalPrice (in Rs)</th>\n",
       "      <th>DiscountOffer</th>\n",
       "      <th>SizeOption</th>\n",
       "      <th>Ratings</th>\n",
       "      <th>Reviews</th>\n",
       "    </tr>\n",
       "  </thead>\n",
       "  <tbody>\n",
       "    <tr>\n",
       "      <th>2</th>\n",
       "      <td>https://www.myntra.com/jeans/roadster/roadster...</td>\n",
       "      <td>2296012</td>\n",
       "      <td>Roadster</td>\n",
       "      <td>Bottom Wear</td>\n",
       "      <td>Jeans</td>\n",
       "      <td>Men</td>\n",
       "      <td>roadster men navy blue slim fit mid rise clean...</td>\n",
       "      <td>824.0</td>\n",
       "      <td>1499.0</td>\n",
       "      <td>45% OFF</td>\n",
       "      <td>28, 30, 32, 34, 36</td>\n",
       "      <td>3.9</td>\n",
       "      <td>999.0</td>\n",
       "    </tr>\n",
       "    <tr>\n",
       "      <th>3</th>\n",
       "      <td>https://www.myntra.com/track-pants/locomotive/...</td>\n",
       "      <td>13780156</td>\n",
       "      <td>Locomotive</td>\n",
       "      <td>Bottom Wear</td>\n",
       "      <td>Track Pants</td>\n",
       "      <td>Men</td>\n",
       "      <td>locomotive men black  white solid slim fit tra...</td>\n",
       "      <td>517.0</td>\n",
       "      <td>1149.0</td>\n",
       "      <td>55% OFF</td>\n",
       "      <td>36, 38, 40, 40</td>\n",
       "      <td>4.0</td>\n",
       "      <td>999.0</td>\n",
       "    </tr>\n",
       "    <tr>\n",
       "      <th>4</th>\n",
       "      <td>https://www.myntra.com/shirts/roadster/roadste...</td>\n",
       "      <td>11895958</td>\n",
       "      <td>Roadster</td>\n",
       "      <td>Topwear</td>\n",
       "      <td>Shirts</td>\n",
       "      <td>Men</td>\n",
       "      <td>roadster men navy white  black geometric print...</td>\n",
       "      <td>629.0</td>\n",
       "      <td>1399.0</td>\n",
       "      <td>55% OFF</td>\n",
       "      <td>38, 40, 42, 44, 46, 48</td>\n",
       "      <td>4.3</td>\n",
       "      <td>999.0</td>\n",
       "    </tr>\n",
       "    <tr>\n",
       "      <th>5</th>\n",
       "      <td>https://www.myntra.com/shapewear/zivame/zivame...</td>\n",
       "      <td>4335679</td>\n",
       "      <td>Zivame</td>\n",
       "      <td>Lingerie &amp; Sleep Wear</td>\n",
       "      <td>Shapewear</td>\n",
       "      <td>Women</td>\n",
       "      <td>zivame women black saree shapewear zi3023core0...</td>\n",
       "      <td>893.0</td>\n",
       "      <td>1295.0</td>\n",
       "      <td>31% OFF</td>\n",
       "      <td>36, 38, 40, 40, 40</td>\n",
       "      <td>4.2</td>\n",
       "      <td>999.0</td>\n",
       "    </tr>\n",
       "    <tr>\n",
       "      <th>6</th>\n",
       "      <td>https://www.myntra.com/tshirts/roadster/roadst...</td>\n",
       "      <td>11690882</td>\n",
       "      <td>Roadster</td>\n",
       "      <td>Western</td>\n",
       "      <td>Tshirts</td>\n",
       "      <td>Women</td>\n",
       "      <td>roadster women white solid v neck pure cotton ...</td>\n",
       "      <td>599.0</td>\n",
       "      <td>599.0</td>\n",
       "      <td>35% OFF</td>\n",
       "      <td>36, 36, 38, 40, 40</td>\n",
       "      <td>4.2</td>\n",
       "      <td>999.0</td>\n",
       "    </tr>\n",
       "  </tbody>\n",
       "</table>\n",
       "</div>"
      ],
      "text/plain": [
       "                                                 URL  Product_id   BrandName  \\\n",
       "2  https://www.myntra.com/jeans/roadster/roadster...     2296012    Roadster   \n",
       "3  https://www.myntra.com/track-pants/locomotive/...    13780156  Locomotive   \n",
       "4  https://www.myntra.com/shirts/roadster/roadste...    11895958    Roadster   \n",
       "5  https://www.myntra.com/shapewear/zivame/zivame...     4335679      Zivame   \n",
       "6  https://www.myntra.com/tshirts/roadster/roadst...    11690882    Roadster   \n",
       "\n",
       "                Category Individual_category category_by_Gender  \\\n",
       "2            Bottom Wear               Jeans                Men   \n",
       "3            Bottom Wear         Track Pants                Men   \n",
       "4                Topwear              Shirts                Men   \n",
       "5  Lingerie & Sleep Wear           Shapewear              Women   \n",
       "6                Western             Tshirts              Women   \n",
       "\n",
       "                                         Description  DiscountPrice (in Rs)  \\\n",
       "2  roadster men navy blue slim fit mid rise clean...                  824.0   \n",
       "3  locomotive men black  white solid slim fit tra...                  517.0   \n",
       "4  roadster men navy white  black geometric print...                  629.0   \n",
       "5  zivame women black saree shapewear zi3023core0...                  893.0   \n",
       "6  roadster women white solid v neck pure cotton ...                  599.0   \n",
       "\n",
       "   OriginalPrice (in Rs) DiscountOffer              SizeOption  Ratings  \\\n",
       "2                 1499.0       45% OFF      28, 30, 32, 34, 36      3.9   \n",
       "3                 1149.0       55% OFF          36, 38, 40, 40      4.0   \n",
       "4                 1399.0       55% OFF  38, 40, 42, 44, 46, 48      4.3   \n",
       "5                 1295.0       31% OFF      36, 38, 40, 40, 40      4.2   \n",
       "6                  599.0       35% OFF      36, 36, 38, 40, 40      4.2   \n",
       "\n",
       "   Reviews  \n",
       "2    999.0  \n",
       "3    999.0  \n",
       "4    999.0  \n",
       "5    999.0  \n",
       "6    999.0  "
      ]
     },
     "execution_count": 35,
     "metadata": {},
     "output_type": "execute_result"
    }
   ],
   "source": [
    "data.index = data.index + 1\n",
    "data.head(5)"
   ]
  },
  {
   "cell_type": "code",
   "execution_count": 4,
   "id": "75b590da-e660-44a2-928e-b179ca95a203",
   "metadata": {},
   "outputs": [
    {
     "data": {
      "text/plain": [
       "URL                       object\n",
       "Product_id                 int64\n",
       "BrandName                 object\n",
       "Category                  object\n",
       "Individual_category       object\n",
       "category_by_Gender        object\n",
       "Description               object\n",
       "DiscountPrice (in Rs)    float64\n",
       "OriginalPrice (in Rs)    float64\n",
       "DiscountOffer             object\n",
       "SizeOption                object\n",
       "Ratings                  float64\n",
       "Reviews                  float64\n",
       "dtype: object"
      ]
     },
     "execution_count": 4,
     "metadata": {},
     "output_type": "execute_result"
    }
   ],
   "source": [
    "data.dtypes"
   ]
  },
  {
   "cell_type": "markdown",
   "id": "f5533ed3-1ed6-4423-9c6b-ac150a30ca3a",
   "metadata": {},
   "source": [
    "## Remove Missing Values"
   ]
  },
  {
   "cell_type": "code",
   "execution_count": 5,
   "id": "523c21f5-3d88-4db0-8ef2-0737ba42ef67",
   "metadata": {},
   "outputs": [
    {
     "data": {
      "text/plain": [
       "URL                           0\n",
       "Product_id                    0\n",
       "BrandName                     0\n",
       "Category                      0\n",
       "Individual_category           0\n",
       "category_by_Gender            0\n",
       "Description                   0\n",
       "DiscountPrice (in Rs)    193158\n",
       "OriginalPrice (in Rs)         0\n",
       "DiscountOffer             74306\n",
       "SizeOption                    0\n",
       "Ratings                  336152\n",
       "Reviews                  336152\n",
       "dtype: int64"
      ]
     },
     "execution_count": 5,
     "metadata": {},
     "output_type": "execute_result"
    }
   ],
   "source": [
    "missing_values = data.isnull().sum()\n",
    "missing_values"
   ]
  },
  {
   "cell_type": "code",
   "execution_count": 6,
   "id": "ab262fc6-77f9-4182-8783-2000c88a251f",
   "metadata": {},
   "outputs": [],
   "source": [
    "data['DiscountPrice (in Rs)'].fillna(data['OriginalPrice (in Rs)'], inplace=True)"
   ]
  },
  {
   "cell_type": "code",
   "execution_count": 7,
   "id": "d508865a-ed1d-4a62-8268-d9d01d75bcdf",
   "metadata": {},
   "outputs": [],
   "source": [
    "data['DiscountOffer'].fillna('No Discount', inplace=True)"
   ]
  },
  {
   "cell_type": "code",
   "execution_count": 8,
   "id": "1876a1ac-7417-454a-b7bd-3226414b39dc",
   "metadata": {},
   "outputs": [],
   "source": [
    "data['Reviews'].fillna(0, inplace=True)"
   ]
  },
  {
   "cell_type": "code",
   "execution_count": 9,
   "id": "c139f684-f486-4c38-a5f7-b3aeea054caf",
   "metadata": {},
   "outputs": [],
   "source": [
    "data['Ratings'].fillna(0, inplace=True)"
   ]
  },
  {
   "cell_type": "markdown",
   "id": "0951dd27-7e6e-4330-acb8-d9fa2b31e942",
   "metadata": {},
   "source": [
    "## Checking Duplicates"
   ]
  },
  {
   "cell_type": "code",
   "execution_count": 10,
   "id": "ebd3c7d4-ce87-44de-9dd6-b4503654c3cd",
   "metadata": {},
   "outputs": [
    {
     "data": {
      "text/plain": [
       "np.int64(0)"
      ]
     },
     "execution_count": 10,
     "metadata": {},
     "output_type": "execute_result"
    }
   ],
   "source": [
    "duplicates = data.duplicated().sum()\n",
    "duplicates"
   ]
  },
  {
   "cell_type": "markdown",
   "id": "205f12ca-b8d5-4e39-a538-68a0bd71b8c9",
   "metadata": {},
   "source": [
    "## checking unique values"
   ]
  },
  {
   "cell_type": "code",
   "execution_count": 11,
   "id": "92d6fdc1-17e6-4605-8f80-a597d5bf3112",
   "metadata": {},
   "outputs": [
    {
     "data": {
      "text/plain": [
       "array(['https://www.myntra.com/jeans/roadster/roadster-men-navy-blue-slim-fit-mid-rise-clean-look-jeans/2296012/buy',\n",
       "       'https://www.myntra.com/track-pants/locomotive/locomotive-men-black--white-solid-slim-fit-track-pants/13780156/buy',\n",
       "       'https://www.myntra.com/shirts/roadster/roadster-men-navy-white--black-geometric-printed-sustainable-casual-shirt/11895958/buy',\n",
       "       ...,\n",
       "       'https://www.myntra.com/dresses/250-designs/250-designs-blue-lace-sheath-dress/17654114/buy',\n",
       "       'https://www.myntra.com/dresses/masaba/masaba-women-yellow-printed-a-line-dress/12508700/buy',\n",
       "       'https://www.myntra.com/tshirts/jockey/jockey-women-blue-extended-sleeves-t-shirt/17856544/buy'],\n",
       "      dtype=object)"
      ]
     },
     "execution_count": 11,
     "metadata": {},
     "output_type": "execute_result"
    }
   ],
   "source": [
    "data[\"URL\"].unique()"
   ]
  },
  {
   "cell_type": "code",
   "execution_count": 12,
   "id": "372f7bce-c3d7-4e2b-8385-1bfe5a9d73d3",
   "metadata": {},
   "outputs": [
    {
     "data": {
      "text/plain": [
       "array([ 2296012, 13780156, 11895958, ..., 17654114, 12508700, 17856544])"
      ]
     },
     "execution_count": 12,
     "metadata": {},
     "output_type": "execute_result"
    }
   ],
   "source": [
    "data[\"Product_id\"].unique()"
   ]
  },
  {
   "cell_type": "code",
   "execution_count": 13,
   "id": "3c7c1757-1500-4e7f-8993-04d17cfd5a80",
   "metadata": {},
   "outputs": [
    {
     "data": {
      "text/plain": [
       "array(['Roadster', 'LOCOMOTIVE', 'Zivame', ..., 'Doodlage', 'CHOZI',\n",
       "       'STATUS MANTRA'], dtype=object)"
      ]
     },
     "execution_count": 13,
     "metadata": {},
     "output_type": "execute_result"
    }
   ],
   "source": [
    "data[\"BrandName\"].unique()"
   ]
  },
  {
   "cell_type": "code",
   "execution_count": 14,
   "id": "abafe545-267a-45df-b9d2-9436b059e6da",
   "metadata": {},
   "outputs": [],
   "source": [
    "data['BrandName'] = data['BrandName'].str.title()"
   ]
  },
  {
   "cell_type": "code",
   "execution_count": 15,
   "id": "8305c568-5f60-4ffa-84af-629193f8161c",
   "metadata": {},
   "outputs": [
    {
     "data": {
      "text/plain": [
       "array(['Bottom Wear', 'Topwear', 'Lingerie & Sleep Wear', 'Western',\n",
       "       'Sports Wear', 'Indian Wear', 'Plus Size',\n",
       "       'Inner Wear &  Sleep Wear'], dtype=object)"
      ]
     },
     "execution_count": 15,
     "metadata": {},
     "output_type": "execute_result"
    }
   ],
   "source": [
    "data[\"Category\"].unique()"
   ]
  },
  {
   "cell_type": "code",
   "execution_count": 16,
   "id": "eb285b9c-370e-4570-a62d-48902bdfa310",
   "metadata": {},
   "outputs": [
    {
     "data": {
      "text/plain": [
       "array(['jeans', 'track-pants', 'shirts', 'shapewear', 'tshirts', 'tops',\n",
       "       'trousers', 'tights', 'kurta-sets', 'jumpsuit', 'kurtas', 'bra',\n",
       "       'shorts', 'dresses', 'bath-robe', 'jackets', 'socks', 'briefs',\n",
       "       'sweatshirts', 'sarees', 'trunk', 'kurtis', 'skirts',\n",
       "       'night-suits', 'lounge-pants', 'palazzos', 'stockings', 'jeggings',\n",
       "       'leggings', 'shrug', 'boxers', 'dupatta', 'tunics',\n",
       "       'innerwear-vests', 'sweaters', 'lounge-shorts', 'thermal-tops',\n",
       "       'capris', 'nightdress', 'pyjamas', 'sports-sandals', 'dungarees',\n",
       "       'tracksuits', 'camisoles', 'nehru-jackets', 'blazers',\n",
       "       'thermal-bottoms', 'lounge-tshirts', 'lehenga-choli', 'baby-dolls',\n",
       "       'coats', 'thermal-set', 'saree-blouse', 'churidar',\n",
       "       'dress-material', 'boots', 'lingerie-set', 'sherwani', 'co-ords',\n",
       "       'flats', 'swimwear', 'rain-jacket', 'patiala', 'salwar',\n",
       "       'harem-pants', 'patiala-and-dupatta', 'lingerie-accessories',\n",
       "       'saree-accessories', 'suits', 'dhotis', 'shawl', 'swim-bottoms',\n",
       "       'outdoor-masks', 'stoles', 'clothing-set', 'robe', 'earrings',\n",
       "       'casual-shoes', 'salwar-and-dupatta', 'scarves', 'slips',\n",
       "       'waistcoat', 'burqas', 'necklace-and-chains', 'hair-accessory',\n",
       "       'sleepsuit', 'heels', 'lungi', 'bracelet', 'jewellery-set',\n",
       "       'handbags', 'flip-flops'], dtype=object)"
      ]
     },
     "execution_count": 16,
     "metadata": {},
     "output_type": "execute_result"
    }
   ],
   "source": [
    "data[\"Individual_category\"].unique()"
   ]
  },
  {
   "cell_type": "code",
   "execution_count": 17,
   "id": "131ab0c1-84b4-4ddd-b832-b9f2ac1315f6",
   "metadata": {},
   "outputs": [],
   "source": [
    "data['Individual_category'] = data['Individual_category'].str.replace(\"-\",\" \")"
   ]
  },
  {
   "cell_type": "code",
   "execution_count": 18,
   "id": "38c24289-a4bf-4e60-857a-bde99d8c9c2e",
   "metadata": {},
   "outputs": [],
   "source": [
    "data['Individual_category'] = data['Individual_category'].str.title()"
   ]
  },
  {
   "cell_type": "code",
   "execution_count": 19,
   "id": "c8589a42-92c4-40c6-8d7e-60b0928f41e8",
   "metadata": {},
   "outputs": [
    {
     "data": {
      "text/plain": [
       "array(['Men', 'Women'], dtype=object)"
      ]
     },
     "execution_count": 19,
     "metadata": {},
     "output_type": "execute_result"
    }
   ],
   "source": [
    "data[\"category_by_Gender\"].unique()"
   ]
  },
  {
   "cell_type": "code",
   "execution_count": 20,
   "id": "d12e5a03-f536-40ef-bc9e-177221842b38",
   "metadata": {},
   "outputs": [
    {
     "data": {
      "text/plain": [
       "array(['roadster men navy blue slim fit mid rise clean look jeans',\n",
       "       'locomotive men black  white solid slim fit track pants',\n",
       "       'roadster men navy white  black geometric printed sustainable casual shirt',\n",
       "       ..., '250 designs blue lace sheath dress',\n",
       "       'masaba women yellow printed a line dress',\n",
       "       'jockey women blue extended sleeves t shirt'], dtype=object)"
      ]
     },
     "execution_count": 20,
     "metadata": {},
     "output_type": "execute_result"
    }
   ],
   "source": [
    "data[\"Description\"].unique()"
   ]
  },
  {
   "cell_type": "code",
   "execution_count": 21,
   "id": "47a69712-3a8a-450c-8f42-71cf4bc43a8e",
   "metadata": {},
   "outputs": [
    {
     "data": {
      "text/plain": [
       "array([ 824.,  517.,  629., ..., 5775., 8300., 8440.])"
      ]
     },
     "execution_count": 21,
     "metadata": {},
     "output_type": "execute_result"
    }
   ],
   "source": [
    "data[\"DiscountPrice (in Rs)\"].unique()"
   ]
  },
  {
   "cell_type": "code",
   "execution_count": 22,
   "id": "18361ab9-993e-40a4-9db9-337bbe1dc353",
   "metadata": {},
   "outputs": [
    {
     "data": {
      "text/plain": [
       "array([1499., 1149., 1399., ..., 6276., 7992., 9592.])"
      ]
     },
     "execution_count": 22,
     "metadata": {},
     "output_type": "execute_result"
    }
   ],
   "source": [
    "data[\"OriginalPrice (in Rs)\"].unique()"
   ]
  },
  {
   "cell_type": "code",
   "execution_count": 23,
   "id": "e986496f-71b4-47be-9cd5-e2bc57161089",
   "metadata": {},
   "outputs": [
    {
     "data": {
      "text/plain": [
       "array(['45% OFF', '55% OFF', '31% OFF', ..., 'Rs. 334 OFF', 'Rs. 375 OFF',\n",
       "       'Rs. 283 OFF'], dtype=object)"
      ]
     },
     "execution_count": 23,
     "metadata": {},
     "output_type": "execute_result"
    }
   ],
   "source": [
    "data[\"DiscountOffer\"].unique()"
   ]
  },
  {
   "cell_type": "code",
   "execution_count": 24,
   "id": "ecaa8aff-7ee3-4472-9f79-1a19311b228b",
   "metadata": {},
   "outputs": [],
   "source": [
    "def convert_discount(value, original_price):\n",
    "    if 'Rs.' in value:\n",
    "        rs_off = int(value.split()[1])\n",
    "        percent_off = (rs_off / original_price) * 100\n",
    "        return f\"{round(percent_off)}% OFF\"\n",
    "    else:\n",
    "        return value\n",
    "data['DiscountOffer'] = data.apply(lambda row: convert_discount(row['DiscountOffer'], row['OriginalPrice (in Rs)']), axis=1)"
   ]
  },
  {
   "cell_type": "code",
   "execution_count": 25,
   "id": "073fe27b-4e6d-4c6a-b112-993fcfdf4fd8",
   "metadata": {},
   "outputs": [],
   "source": [
    "data['DiscountOffer'] = data['DiscountOffer'].str.replace(\"Hurry*\",\"60% OFF\")"
   ]
  },
  {
   "cell_type": "code",
   "execution_count": 33,
   "id": "44879261-935c-4910-9676-e83dfdc73022",
   "metadata": {},
   "outputs": [
    {
     "data": {
      "text/plain": [
       "array(['28, 30, 32, 34, 36', '36, 38, 40, 40', '38, 40, 42, 44, 46, 48',\n",
       "       ..., '32, 34, 36, 38, 40, 44, 42, 46', '6, 10, 8, 14, 12, 18, 16',\n",
       "       '26, 27, 28, 29, 30, 32'], dtype=object)"
      ]
     },
     "execution_count": 33,
     "metadata": {},
     "output_type": "execute_result"
    }
   ],
   "source": [
    "data[\"SizeOption\"].unique()"
   ]
  },
  {
   "cell_type": "code",
   "execution_count": 32,
   "id": "82529559-0575-44ee-9e62-041622dfbfc2",
   "metadata": {},
   "outputs": [],
   "source": [
    "data['SizeOption'] = data['SizeOption'].str.replace(\"S\",\"36\")\n",
    "data['SizeOption'] = data['SizeOption'].str.replace(\"M\",\"38\")\n",
    "data['SizeOption'] = data['SizeOption'].str.replace(\"L\",\"40\")\n",
    "data['SizeOption'] = data['SizeOption'].str.replace(\"X\",\"\")"
   ]
  },
  {
   "cell_type": "code",
   "execution_count": 36,
   "id": "e6a72f72-f63c-4067-bbed-5b60dd611478",
   "metadata": {},
   "outputs": [
    {
     "data": {
      "text/plain": [
       "array([3.9, 4. , 4.3, 4.2, 4.4, 3.7, 3.5, 4.1, 3.8, 3.6, 4.5, 4.6, 3.4,\n",
       "       3.2, 4.7, 3.3, 3. , 3.1, 2.9, 2.8, 2.6, 2.5, 2.4, 2. , 2.7, 4.8,\n",
       "       4.9, 2.3, 1.6, 2.2, 2.1, 1.8, 5. , 1.2, 1.9, 1.7, 1.4, 1.5, 1.1,\n",
       "       1. , 1.3, 0. ])"
      ]
     },
     "execution_count": 36,
     "metadata": {},
     "output_type": "execute_result"
    }
   ],
   "source": [
    "data[\"Ratings\"].unique()"
   ]
  },
  {
   "cell_type": "code",
   "execution_count": 37,
   "id": "d03e5446-e1ba-4c63-95a0-82118d9f4dfd",
   "metadata": {},
   "outputs": [
    {
     "data": {
      "text/plain": [
       "array([999., 998., 997., 996., 995., 994., 993., 992., 991., 990., 989.,\n",
       "       988., 987., 986., 985., 984., 983., 982., 981., 980., 979., 978.,\n",
       "       977., 976., 975., 974., 973., 972., 971., 970., 969., 968., 967.,\n",
       "       966., 965., 964., 963., 962., 961., 960., 959., 958., 957., 956.,\n",
       "       955., 954., 953., 952., 951., 950., 949., 948., 947., 946., 945.,\n",
       "       944., 943., 942., 941., 940., 939., 938., 937., 936., 935., 934.,\n",
       "       933., 932., 931., 930., 929., 928., 927., 926., 925., 924., 923.,\n",
       "       922., 921., 920., 919., 918., 917., 916., 915., 914., 913., 912.,\n",
       "       911., 910., 909., 908., 907., 906., 905., 904., 903., 902., 901.,\n",
       "       900., 899., 898., 897., 896., 895., 894., 893., 892., 891., 890.,\n",
       "       889., 888., 887., 886., 885., 884., 883., 882., 881., 880., 879.,\n",
       "       878., 877., 876., 875., 874., 873., 872., 871., 870., 869., 868.,\n",
       "       867., 866., 865., 864., 863., 862., 861., 860., 859., 858., 857.,\n",
       "       856., 855., 854., 853., 852., 851., 850., 849., 848., 847., 846.,\n",
       "       845., 844., 843., 842., 841., 840., 839., 838., 837., 836., 835.,\n",
       "       834., 833., 832., 831., 830., 829., 828., 827., 826., 825., 824.,\n",
       "       823., 822., 821., 820., 819., 818., 817., 816., 815., 814., 813.,\n",
       "       812., 811., 810., 809., 808., 807., 806., 805., 804., 803., 802.,\n",
       "       801., 800., 799., 798., 797., 796., 795., 794., 793., 792., 791.,\n",
       "       790., 789., 788., 787., 786., 785., 784., 783., 782., 781., 780.,\n",
       "       779., 778., 777., 776., 775., 774., 773., 772., 771., 770., 769.,\n",
       "       768., 767., 766., 765., 764., 763., 762., 761., 760., 759., 758.,\n",
       "       757., 756., 755., 754., 753., 752., 751., 750., 749., 748., 747.,\n",
       "       746., 745., 744., 743., 742., 741., 740., 739., 738., 737., 736.,\n",
       "       735., 734., 733., 732., 731., 730., 729., 728., 727., 726., 725.,\n",
       "       724., 723., 722., 721., 720., 719., 718., 717., 716., 715., 714.,\n",
       "       713., 712., 711., 710., 709., 708., 707., 706., 705., 704., 703.,\n",
       "       702., 701., 700., 699., 698., 697., 696., 695., 694., 693., 692.,\n",
       "       691., 690., 689., 688., 687., 686., 685., 684., 683., 682., 681.,\n",
       "       680., 679., 678., 677., 676., 675., 674., 673., 672., 671., 670.,\n",
       "       669., 668., 667., 666., 665., 664., 663., 662., 661., 660., 659.,\n",
       "       658., 657., 656., 655., 654., 653., 652., 651., 650., 649., 648.,\n",
       "       647., 646., 645., 644., 643., 642., 641., 640., 639., 638., 637.,\n",
       "       636., 635., 634., 633., 632., 631., 630., 629., 628., 627., 626.,\n",
       "       625., 624., 623., 622., 621., 620., 619., 618., 617., 616., 615.,\n",
       "       614., 613., 612., 611., 610., 609., 608., 607., 606., 605., 604.,\n",
       "       603., 602., 601., 600., 599., 598., 597., 596., 595., 594., 593.,\n",
       "       592., 591., 590., 589., 588., 587., 586., 585., 584., 583., 582.,\n",
       "       581., 580., 579., 578., 577., 576., 575., 574., 573., 572., 571.,\n",
       "       570., 569., 568., 567., 566., 565., 564., 563., 562., 561., 560.,\n",
       "       559., 558., 557., 556., 555., 554., 553., 552., 551., 550., 549.,\n",
       "       548., 547., 546., 545., 544., 543., 542., 541., 540., 539., 538.,\n",
       "       537., 536., 535., 534., 533., 532., 531., 530., 529., 528., 527.,\n",
       "       526., 525., 524., 523., 522., 521., 520., 519., 518., 517., 516.,\n",
       "       515., 514., 513., 512., 511., 510., 509., 508., 507., 506., 505.,\n",
       "       504., 503., 502., 501., 500., 499., 498., 497., 496., 495., 494.,\n",
       "       493., 492., 491., 490., 489., 488., 487., 486., 485., 484., 483.,\n",
       "       482., 481., 480., 479., 478., 477., 476., 475., 474., 473., 472.,\n",
       "       471., 470., 469., 468., 467., 466., 465., 464., 463., 462., 461.,\n",
       "       460., 459., 458., 457., 456., 455., 454., 453., 452., 451., 450.,\n",
       "       449., 448., 447., 446., 445., 444., 443., 442., 441., 440., 439.,\n",
       "       438., 437., 436., 435., 434., 433., 432., 431., 430., 429., 428.,\n",
       "       427., 426., 425., 424., 423., 422., 421., 420., 419., 418., 417.,\n",
       "       416., 415., 414., 413., 412., 411., 410., 409., 408., 407., 406.,\n",
       "       405., 404., 403., 402., 401., 400., 399., 398., 397., 396., 395.,\n",
       "       394., 393., 392., 391., 390., 389., 388., 387., 386., 385., 384.,\n",
       "       383., 382., 381., 380., 379., 378., 377., 376., 375., 374., 373.,\n",
       "       372., 371., 370., 369., 368., 367., 366., 365., 364., 363., 362.,\n",
       "       361., 360., 359., 358., 357., 356., 355., 354., 353., 352., 351.,\n",
       "       350., 349., 348., 347., 346., 345., 344., 343., 342., 341., 340.,\n",
       "       339., 338., 337., 336., 335., 334., 333., 332., 331., 330., 329.,\n",
       "       328., 327., 326., 325., 324., 323., 322., 321., 320., 319., 318.,\n",
       "       317., 316., 315., 314., 313., 312., 311., 310., 309., 308., 307.,\n",
       "       306., 305., 304., 303., 302., 301., 300., 299., 298., 297., 296.,\n",
       "       295., 294., 293., 292., 291., 290., 289., 288., 287., 286., 285.,\n",
       "       284., 283., 282., 281., 280., 279., 278., 277., 276., 275., 274.,\n",
       "       273., 272., 271., 270., 269., 268., 267., 266., 265., 264., 263.,\n",
       "       262., 261., 260., 259., 258., 257., 256., 255., 254., 253., 252.,\n",
       "       251., 250., 249., 248., 247., 246., 245., 244., 243., 242., 241.,\n",
       "       240., 239., 238., 237., 236., 235., 234., 233., 232., 231., 230.,\n",
       "       229., 228., 227., 226., 225., 224., 223., 222., 221., 220., 219.,\n",
       "       218., 217., 216., 215., 214., 213., 212., 211., 210., 209., 208.,\n",
       "       207., 206., 205., 204., 203., 202., 201., 200., 199., 198., 197.,\n",
       "       196., 195., 194., 193., 192., 191., 190., 189., 188., 187., 186.,\n",
       "       185., 184., 183., 182., 181., 180., 179., 178., 177., 176., 175.,\n",
       "       174., 173., 172., 171., 170., 169., 168., 167., 166., 165., 164.,\n",
       "       163., 162., 161., 160., 159., 158., 157., 156., 155., 154., 153.,\n",
       "       152., 151., 150., 149., 148., 147., 146., 145., 144., 143., 142.,\n",
       "       141., 140., 139., 138., 137., 136., 135., 134., 133., 132., 131.,\n",
       "       130., 129., 128., 127., 126., 125., 124., 123., 122., 121., 120.,\n",
       "       119., 118., 117., 116., 115., 114., 113., 112., 111., 110., 109.,\n",
       "       108., 107., 106., 105., 104., 103., 102., 101., 100.,  99.,  98.,\n",
       "        97.,  96.,  95.,  94.,  93.,  92.,  91.,  90.,  89.,  88.,  87.,\n",
       "        86.,  85.,  84.,  83.,  82.,  81.,  80.,  79.,  78.,  77.,  76.,\n",
       "        75.,  74.,  73.,  72.,  71.,  70.,  69.,  68.,  67.,  66.,  65.,\n",
       "        64.,  63.,  62.,  61.,  60.,  59.,  58.,  57.,  56.,  55.,  54.,\n",
       "        53.,  52.,  51.,  50.,  49.,  48.,  47.,  46.,  45.,  44.,  43.,\n",
       "        42.,  41.,  40.,  39.,  38.,  37.,  36.,  35.,  34.,  33.,  32.,\n",
       "        31.,  30.,  29.,  28.,  27.,  26.,  25.,  24.,  23.,  22.,  21.,\n",
       "        20.,  19.,  18.,  17.,  16.,  15.,  14.,  13.,  12.,  11.,  10.,\n",
       "         9.,   8.,   7.,   6.,   5.,   4.,   3.,   2.,   1.,   0.])"
      ]
     },
     "execution_count": 37,
     "metadata": {},
     "output_type": "execute_result"
    }
   ],
   "source": [
    "data[\"Reviews\"].unique()"
   ]
  },
  {
   "cell_type": "code",
   "execution_count": 38,
   "id": "e6bf633c-dc70-47ba-be70-9cbebc71ba06",
   "metadata": {},
   "outputs": [],
   "source": [
    "data.to_csv('myntra_clean_data.csv', index=False)\n",
    " "
   ]
  }
 ],
 "metadata": {
  "kernelspec": {
   "display_name": "Python 3 (ipykernel)",
   "language": "python",
   "name": "python3"
  },
  "language_info": {
   "codemirror_mode": {
    "name": "ipython",
    "version": 3
   },
   "file_extension": ".py",
   "mimetype": "text/x-python",
   "name": "python",
   "nbconvert_exporter": "python",
   "pygments_lexer": "ipython3",
   "version": "3.12.5"
  }
 },
 "nbformat": 4,
 "nbformat_minor": 5
}
